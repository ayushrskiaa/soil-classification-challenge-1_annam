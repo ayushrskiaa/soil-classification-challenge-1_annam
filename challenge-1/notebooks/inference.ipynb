{
  "nbformat": 4,
  "nbformat_minor": 0,
  "metadata": {
    "colab": {
      "provenance": []
    },
    "kernelspec": {
      "name": "python3",
      "display_name": "Python 3"
    },
    "language_info": {
      "name": "python"
    }
  },
  "cells": [
    {
      "cell_type": "code",
      "execution_count": null,
      "metadata": {
        "id": "nG2h-3cWah1W"
      },
      "outputs": [],
      "source": [
        "\"\"\"\n",
        "\n",
        "Author: Annam.ai IIT Ropar",
"Team Name: KrishiSetu",
"Team Members: Dnyandeep Chute,Ayush Kumar, Suyash Mishra, Krish Kalgude, Yash Verma"

        "\n",
        "\"\"\"\n",
        "\n",
        "# This is the notebook used for making the inferences using the model trained."
      ]
    }
  ]
}
